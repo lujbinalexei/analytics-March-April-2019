{
 "cells": [
  {
   "cell_type": "code",
   "execution_count": 144,
   "metadata": {},
   "outputs": [],
   "source": [
    "import warnings\n",
    "warnings.filterwarnings('ignore')\n",
    "import pandas as pd\n",
    "import numpy as np\n",
    "from glob import glob"
   ]
  },
  {
   "cell_type": "code",
   "execution_count": 145,
   "metadata": {},
   "outputs": [
    {
     "name": "stdout",
     "output_type": "stream",
     "text": [
      "C:\\Users\\luzhbin.aleksey\\Desktop\\analytics\n"
     ]
    }
   ],
   "source": [
    "%cd C:\\Users\\luzhbin.aleksey\\Desktop\\analytics"
   ]
  },
  {
   "cell_type": "markdown",
   "metadata": {},
   "source": [
    "**Загрузка данных: должники в апреле**"
   ]
  },
  {
   "cell_type": "code",
   "execution_count": 146,
   "metadata": {},
   "outputs": [
    {
     "name": "stdout",
     "output_type": "stream",
     "text": [
      "C:\\Users\\luzhbin.aleksey\\Desktop\\analytics\\Overdue_apr\n",
      "(81007, 7)\n"
     ]
    }
   ],
   "source": [
    "%cd Overdue_apr\n",
    "path = glob('*.csv')\n",
    "\n",
    "deb_apr = pd.read_csv(path[0], sep = ';',\n",
    "                dtype = {'LoanSum': 'float'},\n",
    "                names = ['Dog', 'FIO', 'LoanDate', 'Sum', 'Status', 'DaysOverdue', 'OverdueDate'],\n",
    "                usecols = [0, 2, 12, 13, 14, 15, 16], encoding = 'cp1251')\n",
    "\n",
    "for i in range(1, len(path)):\n",
    "    tmp = pd.read_csv(path[i], sep = ';',\n",
    "                dtype = {'LoanSum': 'float'},\n",
    "                names = ['Dog', 'FIO', 'LoanDate', 'Sum', 'Status', 'DaysOverdue', 'OverdueDate'],\n",
    "                usecols = [0, 2, 12, 13, 14, 15, 16], encoding = 'cp1251')\n",
    "    deb_apr = deb_apr.append(tmp, ignore_index = True)\n",
    "\n",
    "print(deb_apr.shape)"
   ]
  },
  {
   "cell_type": "markdown",
   "metadata": {},
   "source": [
    "**Загрузка данных: должники в марте**"
   ]
  },
  {
   "cell_type": "code",
   "execution_count": 147,
   "metadata": {},
   "outputs": [
    {
     "name": "stdout",
     "output_type": "stream",
     "text": [
      "C:\\Users\\luzhbin.aleksey\\Desktop\\analytics\n",
      "C:\\Users\\luzhbin.aleksey\\Desktop\\analytics\\Overdue_mar\n",
      "(66701, 7)\n"
     ]
    }
   ],
   "source": [
    "%cd ..\n",
    "%cd Overdue_mar\n",
    "path = glob('*.csv')\n",
    "\n",
    "deb_mar = pd.read_csv(path[0], sep = ';',\n",
    "                dtype = {'LoanSum': 'float'},\n",
    "                names = ['Dog', 'FIO', 'LoanDate', 'Sum', 'Status', 'DaysOverdue', 'OverdueDate'],\n",
    "                usecols = [0, 2, 12, 13, 14, 15, 16], encoding = 'cp1251')\n",
    "\n",
    "for i in range(1, len(path)):\n",
    "    tmp = pd.read_csv(path[i], sep = ';',\n",
    "                dtype = {'LoanSum': 'float'},\n",
    "                names = ['Dog', 'FIO', 'LoanDate', 'Sum', 'Status', 'DaysOverdue', 'OverdueDate'],\n",
    "                usecols = [0, 2, 12, 13, 14, 15, 16], encoding = 'cp1251')\n",
    "    deb_mar = deb_mar.append(tmp, ignore_index = True)\n",
    "\n",
    "print(deb_mar.shape)"
   ]
  },
  {
   "cell_type": "markdown",
   "metadata": {},
   "source": [
    "**Создание объединенной таблицы по должникам за два месяца**"
   ]
  },
  {
   "cell_type": "code",
   "execution_count": 148,
   "metadata": {},
   "outputs": [
    {
     "data": {
      "text/plain": [
       "(17329, 2)"
      ]
     },
     "execution_count": 148,
     "metadata": {},
     "output_type": "execute_result"
    }
   ],
   "source": [
    "deb_mar_apr = deb_apr.append(deb_mar, ignore_index = True)\n",
    "deb_mar_apr_column = pd.DataFrame(list(set(deb_mar_apr.Dog)), columns = ['Dog'])\n",
    "deb_mar_apr_column['Debitor'] = True\n",
    "deb_mar_apr_column.shape"
   ]
  },
  {
   "cell_type": "markdown",
   "metadata": {},
   "source": [
    "**Загрузка данных: все заявки и операции в марте**"
   ]
  },
  {
   "cell_type": "code",
   "execution_count": 149,
   "metadata": {},
   "outputs": [
    {
     "name": "stdout",
     "output_type": "stream",
     "text": [
      "C:\\Users\\luzhbin.aleksey\\Desktop\\analytics\n",
      "(143575, 14)\n",
      "(56949, 5)\n"
     ]
    }
   ],
   "source": [
    "%cd ..\n",
    "zvk_mar = pd.read_csv('zvk_mar.csv', sep = ';',\n",
    "                    skiprows = 1, decimal = ',',\n",
    "                    dtype = {'LoanSum': 'float'},\n",
    "                    names = ['Dog', 'DateDog', 'City', 'ProductType', 'Product', 'Status', 'LoanSum', 'Duration',\n",
    "                             'Name', 'Gender', 'BD', 'NumOfLoansBefore', 'NumOfLoansPayed'],\n",
    "                    usecols = [0, 1, 5, 6, 7, 8, 9, 10, 14, 16, 17, 27, 37], encoding = 'cp1251')\n",
    "\n",
    "zvk_mar['Month'] = 'March'\n",
    "print(zvk_mar.shape)\n",
    "\n",
    "oper_mar = pd.read_csv('oper_mar.csv', sep = ';',\n",
    "                    skiprows = 1, decimal = ',',\n",
    "                    dtype = {'LoanSum': 'float'},\n",
    "                    names = ['Type', 'FIO', 'Dog', 'Sum', 'Org'],\n",
    "                    usecols = [0, 1, 2, 5, 12], encoding = 'cp1251')\n",
    "\n",
    "print(oper_mar.shape)"
   ]
  },
  {
   "cell_type": "markdown",
   "metadata": {},
   "source": [
    "**Загрузка данных: все заявки и операции в апреле**"
   ]
  },
  {
   "cell_type": "code",
   "execution_count": 150,
   "metadata": {},
   "outputs": [
    {
     "name": "stdout",
     "output_type": "stream",
     "text": [
      "(70146, 14)\n",
      "(63290, 5)\n"
     ]
    }
   ],
   "source": [
    "zvk_apr = pd.read_csv('zvk_apr.csv', sep = ';',\n",
    "                    skiprows = 1, decimal = ',',\n",
    "                    dtype = {'LoanSum': 'float'},\n",
    "                    names = ['Dog', 'DateDog', 'City', 'ProductType', 'Product', 'Status', 'LoanSum', 'Duration',\n",
    "                             'Name', 'Gender', 'BD', 'NumOfLoansBefore', 'NumOfLoansPayed'],\n",
    "                    usecols = [0, 1, 5, 6, 7, 8, 9, 10, 14, 16, 17, 27, 37], encoding = 'cp1251')\n",
    "\n",
    "zvk_apr['Month'] = 'April'\n",
    "print(zvk_apr.shape)\n",
    "\n",
    "oper_apr = pd.read_csv('oper_apr.csv', sep = ';',\n",
    "                    skiprows = 1, decimal = ',',\n",
    "                    dtype = {'LoanSum': 'float'},\n",
    "                    names = ['Type', 'FIO', 'Dog', 'Sum', 'Org'],\n",
    "                    usecols = [0, 1, 2, 5, 12], encoding = 'cp1251')\n",
    "\n",
    "print(oper_apr.shape)"
   ]
  },
  {
   "cell_type": "markdown",
   "metadata": {},
   "source": [
    "**Создание объединенной таблицы по заявкам за два месяца (за исключением auto-lombard)**"
   ]
  },
  {
   "cell_type": "code",
   "execution_count": 151,
   "metadata": {},
   "outputs": [
    {
     "data": {
      "text/plain": [
       "(212475, 15)"
      ]
     },
     "execution_count": 151,
     "metadata": {},
     "output_type": "execute_result"
    }
   ],
   "source": [
    "zvk_mar_apr = zvk_apr.append(zvk_mar, ignore_index = True)\n",
    "zvk_mar_apr = zvk_mar_apr[(zvk_mar_apr.Product != 'auto-lombard') & (pd.isnull(zvk_mar_apr.Dog) != True)]\n",
    "zvk_mar_apr = zvk_mar_apr[(zvk_mar_apr.ProductType != 'ПСК ДОВЕРИЕ')\\\n",
    "                            & (zvk_mar_apr.ProductType != 'Для сотрудников (ФМ) от 2000 от 29.01.2019')\\\n",
    "                            & (zvk_mar_apr.ProductType != 'Для сотрудников (ФМ) от 10500 от 29.01.2019')\\\n",
    "                            & (zvk_mar_apr.ProductType != 'Для сотрудников (ФМ) от 15500 от 29.01.2019')]\n",
    "zvk_mar_apr['ON'] = list(map(lambda x: 'ON' in x, zvk_mar_apr.Dog))\n",
    "zvk_mar_apr.shape"
   ]
  },
  {
   "cell_type": "markdown",
   "metadata": {},
   "source": [
    "**Создание объединенной таблицы по операциям за два месяца (только тип \"Выдача займа\")**"
   ]
  },
  {
   "cell_type": "code",
   "execution_count": 152,
   "metadata": {},
   "outputs": [
    {
     "data": {
      "text/plain": [
       "(31035, 5)"
      ]
     },
     "execution_count": 152,
     "metadata": {},
     "output_type": "execute_result"
    }
   ],
   "source": [
    "oper_mar_apr = oper_apr.append(oper_mar, ignore_index = True)\n",
    "oper_mar_apr = oper_mar_apr[(oper_mar_apr.Type == 'Выдача займа') & (pd.isnull(oper_mar_apr.Dog) != True)]\n",
    "oper_mar_apr.shape"
   ]
  },
  {
   "cell_type": "markdown",
   "metadata": {},
   "source": [
    "**Left join-cлияние двух объединенных таблиц: заявки и операции (выданные займы)**"
   ]
  },
  {
   "cell_type": "code",
   "execution_count": 153,
   "metadata": {},
   "outputs": [
    {
     "data": {
      "text/plain": [
       "(212475, 19)"
      ]
     },
     "execution_count": 153,
     "metadata": {},
     "output_type": "execute_result"
    }
   ],
   "source": [
    "merged_mar_apr = pd.merge(left = zvk_mar_apr, right = oper_mar_apr, left_on = 'Dog', right_on = 'Dog', how = 'left')\n",
    "merged_mar_apr.shape"
   ]
  },
  {
   "cell_type": "code",
   "execution_count": 154,
   "metadata": {},
   "outputs": [
    {
     "data": {
      "text/plain": [
       "(30735, 19)"
      ]
     },
     "execution_count": 154,
     "metadata": {},
     "output_type": "execute_result"
    }
   ],
   "source": [
    "merged_mar_apr.dropna(inplace = True)\n",
    "merged_mar_apr['Duration'] = list((map(int, merged_mar_apr.Duration.values)))\n",
    "merged_mar_apr.shape"
   ]
  },
  {
   "cell_type": "markdown",
   "metadata": {},
   "source": [
    "**Left join-cлияние двух итоговых таблиц: выданные займы и должники**"
   ]
  },
  {
   "cell_type": "code",
   "execution_count": 155,
   "metadata": {},
   "outputs": [
    {
     "data": {
      "text/plain": [
       "(8697, 20)"
      ]
     },
     "execution_count": 155,
     "metadata": {},
     "output_type": "execute_result"
    }
   ],
   "source": [
    "merged_mar_apr_deb = pd.merge(left = merged_mar_apr, right = deb_mar_apr_column, left_on = 'Dog',\n",
    "                                                                      right_on = 'Dog', how = 'left')\n",
    "merged_mar_apr_deb.dropna(inplace = True)\n",
    "merged_mar_apr_deb.shape"
   ]
  },
  {
   "cell_type": "markdown",
   "metadata": {},
   "source": [
    "**Разделение первичных и повторных заемщиков (только выданные займы): в срезе online/offline и март/апрель**"
   ]
  },
  {
   "cell_type": "code",
   "execution_count": 156,
   "metadata": {},
   "outputs": [],
   "source": [
    "perv_mar_all = merged_mar_apr[(merged_mar_apr.Month == 'March') & (merged_mar_apr.NumOfLoansBefore == 0)]\n",
    "povtor_mar_all = merged_mar_apr[(merged_mar_apr.Month == 'March') & (merged_mar_apr.NumOfLoansBefore != 0)]\n",
    "perv_apr_all = merged_mar_apr[(merged_mar_apr.Month == 'April') & (merged_mar_apr.NumOfLoansBefore == 0)]\n",
    "povtor_apr_all = merged_mar_apr[(merged_mar_apr.Month == 'April') & (merged_mar_apr.NumOfLoansBefore != 0)]\n",
    "perv_mar_all_deb = merged_mar_apr_deb[(merged_mar_apr_deb.Month == 'March') & (merged_mar_apr_deb.NumOfLoansBefore == 0)]\n",
    "povtor_mar_all_deb = merged_mar_apr_deb[(merged_mar_apr_deb.Month == 'March') & (merged_mar_apr_deb.NumOfLoansBefore != 0)]\n",
    "perv_apr_all_deb = merged_mar_apr_deb[(merged_mar_apr_deb.Month == 'April') & (merged_mar_apr_deb.NumOfLoansBefore == 0)]\n",
    "povtor_apr_all_deb = merged_mar_apr_deb[(merged_mar_apr_deb.Month == 'April') & (merged_mar_apr_deb.NumOfLoansBefore != 0)]\n",
    "\n",
    "perv_mar_on = merged_mar_apr[(merged_mar_apr.Month == 'March') & (merged_mar_apr.NumOfLoansBefore == 0)\\\n",
    "                                                                                & (merged_mar_apr.ON == True)]\n",
    "povtor_mar_on = merged_mar_apr[(merged_mar_apr.Month == 'March') & (merged_mar_apr.NumOfLoansBefore != 0)\\\n",
    "                                                                                & (merged_mar_apr.ON == True)]\n",
    "perv_apr_on = merged_mar_apr[(merged_mar_apr.Month == 'April') & (merged_mar_apr.NumOfLoansBefore == 0)\\\n",
    "                                                                                & (merged_mar_apr.ON == True)]\n",
    "povtor_apr_on = merged_mar_apr[(merged_mar_apr.Month == 'April') & (merged_mar_apr.NumOfLoansBefore != 0)\\\n",
    "                                                                                & (merged_mar_apr.ON == True)]\n",
    "perv_mar_on_deb = merged_mar_apr_deb[(merged_mar_apr_deb.Month == 'March') & (merged_mar_apr_deb.NumOfLoansBefore == 0)\\\n",
    "                                                                                & (merged_mar_apr_deb.ON == True)]\n",
    "povtor_mar_on_deb = merged_mar_apr_deb[(merged_mar_apr_deb.Month == 'March') & (merged_mar_apr_deb.NumOfLoansBefore != 0)\\\n",
    "                                                                                & (merged_mar_apr_deb.ON == True)]\n",
    "perv_apr_on_deb = merged_mar_apr_deb[(merged_mar_apr_deb.Month == 'April') & (merged_mar_apr_deb.NumOfLoansBefore == 0)\\\n",
    "                                                                                & (merged_mar_apr_deb.ON == True)]\n",
    "povtor_apr_on_deb = merged_mar_apr_deb[(merged_mar_apr_deb.Month == 'April') & (merged_mar_apr_deb.NumOfLoansBefore != 0)\\\n",
    "                                                                                & (merged_mar_apr_deb.ON == True)]\n",
    "\n",
    "perv_mar_off = merged_mar_apr[(merged_mar_apr.Month == 'March') & (merged_mar_apr.NumOfLoansBefore == 0)\\\n",
    "                                                                                & (merged_mar_apr.ON == False)]\n",
    "povtor_mar_off = merged_mar_apr[(merged_mar_apr.Month == 'March') & (merged_mar_apr.NumOfLoansBefore != 0)\\\n",
    "                                                                                & (merged_mar_apr.ON == False)]\n",
    "perv_apr_off = merged_mar_apr[(merged_mar_apr.Month == 'April') & (merged_mar_apr.NumOfLoansBefore == 0)\\\n",
    "                                                                                & (merged_mar_apr.ON == False)]\n",
    "povtor_apr_off = merged_mar_apr[(merged_mar_apr.Month == 'April') & (merged_mar_apr.NumOfLoansBefore != 0)\\\n",
    "                                                                                & (merged_mar_apr.ON == False)]\n",
    "perv_mar_off_deb = merged_mar_apr_deb[(merged_mar_apr_deb.Month == 'March') & (merged_mar_apr_deb.NumOfLoansBefore == 0)\\\n",
    "                                                                                & (merged_mar_apr_deb.ON == False)]\n",
    "povtor_mar_off_deb = merged_mar_apr_deb[(merged_mar_apr_deb.Month == 'March') & (merged_mar_apr_deb.NumOfLoansBefore != 0)\\\n",
    "                                                                                & (merged_mar_apr_deb.ON == False)]\n",
    "perv_apr_off_deb = merged_mar_apr_deb[(merged_mar_apr_deb.Month == 'April') & (merged_mar_apr_deb.NumOfLoansBefore == 0)\\\n",
    "                                                                                & (merged_mar_apr_deb.ON == False)]\n",
    "povtor_apr_off_deb = merged_mar_apr_deb[(merged_mar_apr_deb.Month == 'April') & (merged_mar_apr_deb.NumOfLoansBefore != 0)\\\n",
    "                                                                                & (merged_mar_apr_deb.ON == False)]"
   ]
  },
  {
   "cell_type": "markdown",
   "metadata": {},
   "source": [
    "**Вывод аналитики**"
   ]
  },
  {
   "cell_type": "code",
   "execution_count": 157,
   "metadata": {},
   "outputs": [
    {
     "name": "stdout",
     "output_type": "stream",
     "text": [
      "Первичные заемщики в марте:\n",
      "Кол-во займов: 5185 (35.22%)\n",
      "в т.ч. online: 3308 (63.80%)\n",
      "в т.ч. offline: 1877 (36.20%)\n",
      "Cредняя сумма займа: 6575\n",
      "в т.ч. online: 5741\n",
      "в т.ч. offline: 8043\n",
      "Медианная сумма займа: 5000\n",
      "в т.ч. online: 5000\n",
      "в т.ч. offline: 7000\n",
      "Cредний (первоначальный) срок займа: 22\n",
      "в т.ч. online: 23\n",
      "в т.ч. offline: 19\n",
      "Конверсия в выдачу (шт.): 4.04%\n",
      "в т.ч. online: 7.42%\n",
      "в т.ч. offline: 2.24%\n",
      "Выход на просрочку (шт.): 52.56%\n",
      "в т.ч. online: 52.72%\n",
      "в т.ч. offline: 52.26%\n"
     ]
    }
   ],
   "source": [
    "print('Первичные заемщики в марте:')\n",
    "\n",
    "print('Кол-во займов: {} ({:.2f}%)'.format(len(perv_mar_all.Dog),\n",
    "                len(perv_mar_all.Dog) * 100 / (len(perv_mar_all.Dog) + len(povtor_mar_all.Dog))))\n",
    "print('в т.ч. online: {} ({:.2f}%)'\\\n",
    "                .format(len(perv_mar_on.Dog), len(perv_mar_on.Dog) * 100 / (len(perv_mar_all.Dog))))\n",
    "print('в т.ч. offline: {} ({:.2f}%)'\\\n",
    "                .format(len(perv_mar_off.Dog), len(perv_mar_off.Dog) * 100 / (len(perv_mar_all.Dog))))\n",
    "\n",
    "print('Cредняя сумма займа: {:.0f}'.format(np.mean(perv_mar_all.Sum)))\n",
    "print('в т.ч. online: {:.0f}'.format(np.mean(perv_mar_on.Sum)))\n",
    "print('в т.ч. offline: {:.0f}'.format(np.mean(perv_mar_off.Sum)))\n",
    "\n",
    "print('Медианная сумма займа: {:.0f}'.format(np.median(perv_mar_all.Sum)))\n",
    "print('в т.ч. online: {:.0f}'.format(np.median(perv_mar_on.Sum)))\n",
    "print('в т.ч. offline: {:.0f}'.format(np.median(perv_mar_off.Sum)))\n",
    "\n",
    "print('Cредний (первоначальный) срок займа: {:.0f}'.format(np.mean(perv_mar_all.Duration)))\n",
    "print('в т.ч. online: {:.0f}'.format(np.mean(perv_mar_on.Duration)))\n",
    "print('в т.ч. offline: {:.0f}'.format(np.mean(perv_mar_off.Duration)))\n",
    "\n",
    "print('Конверсия в выдачу (шт.): {:.2f}%'.format(len(perv_mar_all.Dog) *\\\n",
    "                                                100 / len(zvk_mar_apr.Dog[(zvk_mar_apr.Month == 'March')\\\n",
    "                                                & (zvk_mar_apr.NumOfLoansBefore == 0)])))\n",
    "print('в т.ч. online: {:.2f}%'.format(len(perv_mar_on.Dog) *\\\n",
    "                                                100 / len(zvk_mar_apr.Dog[(zvk_mar_apr.Month == 'March')\\\n",
    "                                                & (zvk_mar_apr.NumOfLoansBefore == 0)\\\n",
    "                                                & (zvk_mar_apr.ON == True)])))\n",
    "print('в т.ч. offline: {:.2f}%'.format(len(perv_mar_off.Dog) *\\\n",
    "                                                100 / len(zvk_mar_apr.Dog[(zvk_mar_apr.Month == 'March')\\\n",
    "                                                & (zvk_mar_apr.NumOfLoansBefore == 0)\\\n",
    "                                                & (zvk_mar_apr.ON == False)])))\n",
    "\n",
    "print('Выход на просрочку (шт.): {:.2f}%'.format(len(perv_mar_all_deb.Dog) *\\\n",
    "                                                100 / len(merged_mar_apr.Dog[(merged_mar_apr.Month == 'March')\\\n",
    "                                                & (merged_mar_apr.NumOfLoansBefore == 0)])))\n",
    "print('в т.ч. online: {:.2f}%'.format(len(perv_mar_on_deb.Dog) *\\\n",
    "                                                100 / len(merged_mar_apr.Dog[(merged_mar_apr.Month == 'March')\\\n",
    "                                                & (merged_mar_apr.NumOfLoansBefore == 0)\\\n",
    "                                                & (merged_mar_apr.ON == True)])))\n",
    "print('в т.ч. offline: {:.2f}%'.format(len(perv_mar_off_deb.Dog) *\\\n",
    "                                                100 / len(merged_mar_apr.Dog[(merged_mar_apr.Month == 'March')\\\n",
    "                                                & (merged_mar_apr.NumOfLoansBefore == 0)\\\n",
    "                                                & (merged_mar_apr.ON == False)])))"
   ]
  },
  {
   "cell_type": "code",
   "execution_count": 158,
   "metadata": {},
   "outputs": [
    {
     "name": "stdout",
     "output_type": "stream",
     "text": [
      "Повторные заемщики в марте:\n",
      "Кол-во займов: 9536 (64.78%)\n",
      "в т.ч. online: 6309 (66.16%)\n",
      "в т.ч. offline: 3227 (33.84%)\n",
      "Cредняя сумма займа: 11813\n",
      "в т.ч. online: 13092\n",
      "в т.ч. offline: 9312\n",
      "Медианная сумма займа: 8000\n",
      "в т.ч. online: 10000\n",
      "в т.ч. offline: 6000\n",
      "Cредний (первоначальный) срок займа: 23\n",
      "в т.ч. online: 23\n",
      "в т.ч. offline: 23\n",
      "Конверсия в выдачу (шт.): 66.44%\n",
      "в т.ч. online: 63.52%\n",
      "в т.ч. offline: 73.01%\n",
      "Выход на просрочку (шт.): 42.52%\n",
      "в т.ч. online: 50.71%\n",
      "в т.ч. offline: 26.53%\n"
     ]
    }
   ],
   "source": [
    "print('Повторные заемщики в марте:')\n",
    "\n",
    "print('Кол-во займов: {} ({:.2f}%)'.format(len(povtor_mar_all.Dog),\n",
    "                len(povtor_mar_all.Dog) * 100 / (len(perv_mar_all.Dog) + len(povtor_mar_all.Dog))))\n",
    "print('в т.ч. online: {} ({:.2f}%)'\\\n",
    "                .format(len(povtor_mar_on.Dog), len(povtor_mar_on.Dog) * 100 / (len(povtor_mar_all.Dog))))\n",
    "print('в т.ч. offline: {} ({:.2f}%)'\\\n",
    "                .format(len(povtor_mar_off.Dog), len(povtor_mar_off.Dog) * 100 / (len(povtor_mar_all.Dog))))\n",
    "\n",
    "print('Cредняя сумма займа: {:.0f}'.format(np.mean(povtor_mar_all.Sum)))\n",
    "print('в т.ч. online: {:.0f}'.format(np.mean(povtor_mar_on.Sum)))\n",
    "print('в т.ч. offline: {:.0f}'.format(np.mean(povtor_mar_off.Sum)))\n",
    "\n",
    "print('Медианная сумма займа: {:.0f}'.format(np.median(povtor_mar_all.Sum)))\n",
    "print('в т.ч. online: {:.0f}'.format(np.median(povtor_mar_on.Sum)))\n",
    "print('в т.ч. offline: {:.0f}'.format(np.median(povtor_mar_off.Sum)))\n",
    "\n",
    "print('Cредний (первоначальный) срок займа: {:.0f}'.format(np.mean(povtor_mar_all.Duration)))\n",
    "print('в т.ч. online: {:.0f}'.format(np.mean(povtor_mar_on.Duration)))\n",
    "print('в т.ч. offline: {:.0f}'.format(np.mean(povtor_mar_off.Duration)))\n",
    "\n",
    "print('Конверсия в выдачу (шт.): {:.2f}%'.format(len(povtor_mar_all.Dog) *\\\n",
    "                                                100 / len(zvk_mar_apr.Dog[(zvk_mar_apr.Month == 'March')\\\n",
    "                                                & (zvk_mar_apr.NumOfLoansBefore != 0)])))\n",
    "print('в т.ч. online: {:.2f}%'.format(len(povtor_mar_on.Dog) *\\\n",
    "                                                100 / len(zvk_mar_apr.Dog[(zvk_mar_apr.Month == 'March')\\\n",
    "                                                & (zvk_mar_apr.NumOfLoansBefore != 0)\\\n",
    "                                                & (zvk_mar_apr.ON == True)])))\n",
    "print('в т.ч. offline: {:.2f}%'.format(len(povtor_mar_off.Dog) *\\\n",
    "                                                100 / len(zvk_mar_apr.Dog[(zvk_mar_apr.Month == 'March')\\\n",
    "                                                & (zvk_mar_apr.NumOfLoansBefore != 0)\\\n",
    "                                                & (zvk_mar_apr.ON == False)])))\n",
    "\n",
    "print('Выход на просрочку (шт.): {:.2f}%'.format(len(povtor_mar_all_deb.Dog) *\\\n",
    "                                                100 / len(merged_mar_apr.Dog[(merged_mar_apr.Month == 'March')\\\n",
    "                                                & (merged_mar_apr.NumOfLoansBefore != 0)])))\n",
    "print('в т.ч. online: {:.2f}%'.format(len(povtor_mar_on_deb.Dog) *\\\n",
    "                                                100 / len(merged_mar_apr.Dog[(merged_mar_apr.Month == 'March')\\\n",
    "                                                & (merged_mar_apr.NumOfLoansBefore != 0)\\\n",
    "                                                & (merged_mar_apr.ON == True)])))\n",
    "print('в т.ч. offline: {:.2f}%'.format(len(povtor_mar_off_deb.Dog) *\\\n",
    "                                                100 / len(merged_mar_apr.Dog[(merged_mar_apr.Month == 'March')\\\n",
    "                                                & (merged_mar_apr.NumOfLoansBefore != 0)\\\n",
    "                                                & (merged_mar_apr.ON == False)])))"
   ]
  },
  {
   "cell_type": "code",
   "execution_count": 159,
   "metadata": {},
   "outputs": [
    {
     "name": "stdout",
     "output_type": "stream",
     "text": [
      "Первичные заемщики в апреле:\n",
      "Кол-во займов: 5835 (36.44%)\n",
      "в т.ч. online: 4461 (76.45%)\n",
      "в т.ч. offline: 1374 (23.55%)\n",
      "Cредняя сумма займа: 6359\n",
      "в т.ч. online: 6048\n",
      "в т.ч. offline: 7368\n",
      "Медианная сумма займа: 5000\n",
      "в т.ч. online: 5000\n",
      "в т.ч. offline: 6000\n",
      "Cредний (первоначальный) срок займа: 19\n",
      "в т.ч. online: 19\n",
      "в т.ч. offline: 18\n",
      "Конверсия в выдачу (шт.): 10.52%\n",
      "в т.ч. online: 10.07%\n",
      "в т.ч. offline: 12.33%\n",
      "Выход на просрочку (шт.): 19.47% (непоказательно)\n"
     ]
    }
   ],
   "source": [
    "print('Первичные заемщики в апреле:')\n",
    "\n",
    "print('Кол-во займов: {} ({:.2f}%)'.format(len(perv_apr_all.Dog),\n",
    "                len(perv_apr_all.Dog) * 100 / (len(perv_apr_all.Dog) + len(povtor_apr_all.Dog))))\n",
    "print('в т.ч. online: {} ({:.2f}%)'\\\n",
    "                .format(len(perv_apr_on.Dog), len(perv_apr_on.Dog) * 100 / (len(perv_apr_all.Dog))))\n",
    "print('в т.ч. offline: {} ({:.2f}%)'\\\n",
    "                .format(len(perv_apr_off.Dog), len(perv_apr_off.Dog) * 100 / (len(perv_apr_all.Dog))))\n",
    "\n",
    "print('Cредняя сумма займа: {:.0f}'.format(np.mean(perv_apr_all.Sum)))\n",
    "print('в т.ч. online: {:.0f}'.format(np.mean(perv_apr_on.Sum)))\n",
    "print('в т.ч. offline: {:.0f}'.format(np.mean(perv_apr_off.Sum)))\n",
    "\n",
    "print('Медианная сумма займа: {:.0f}'.format(np.median(perv_apr_all.Sum)))\n",
    "print('в т.ч. online: {:.0f}'.format(np.median(perv_apr_on.Sum)))\n",
    "print('в т.ч. offline: {:.0f}'.format(np.median(perv_apr_off.Sum)))\n",
    "\n",
    "print('Cредний (первоначальный) срок займа: {:.0f}'.format(np.mean(perv_apr_all.Duration)))\n",
    "print('в т.ч. online: {:.0f}'.format(np.mean(perv_apr_on.Duration)))\n",
    "print('в т.ч. offline: {:.0f}'.format(np.mean(perv_apr_off.Duration)))\n",
    "\n",
    "print('Конверсия в выдачу (шт.): {:.2f}%'.format(len(perv_apr_all.Dog) *\\\n",
    "                                                100 / len(zvk_mar_apr.Dog[(zvk_mar_apr.Month == 'April')\\\n",
    "                                                & (zvk_mar_apr.NumOfLoansBefore == 0)])))\n",
    "print('в т.ч. online: {:.2f}%'.format(len(perv_apr_on.Dog) *\\\n",
    "                                                100 / len(zvk_mar_apr.Dog[(zvk_mar_apr.Month == 'April')\\\n",
    "                                                & (zvk_mar_apr.NumOfLoansBefore == 0)\\\n",
    "                                                & (zvk_mar_apr.ON == True)])))\n",
    "print('в т.ч. offline: {:.2f}%'.format(len(perv_apr_off.Dog) *\\\n",
    "                                                100 / len(zvk_mar_apr.Dog[(zvk_mar_apr.Month == 'April')\\\n",
    "                                                & (zvk_mar_apr.NumOfLoansBefore == 0)\\\n",
    "                                                & (zvk_mar_apr.ON == False)])))\n",
    "\n",
    "print('Выход на просрочку (шт.): {:.2f}% (непоказательно)'.format(len(perv_apr_all_deb.Dog) *\\\n",
    "                                                100 / len(merged_mar_apr.Dog[(merged_mar_apr.Month == 'April')\\\n",
    "                                                & (merged_mar_apr.NumOfLoansBefore == 0)])))"
   ]
  },
  {
   "cell_type": "code",
   "execution_count": 160,
   "metadata": {},
   "outputs": [
    {
     "name": "stdout",
     "output_type": "stream",
     "text": [
      "Повторные заемщики в апреле:\n",
      "Кол-во займов: 10179 (63.56%)\n",
      "в т.ч. online: 6787 (66.68%)\n",
      "в т.ч. offline: 3392 (33.32%)\n",
      "Cредняя сумма займа: 10525\n",
      "в т.ч. online: 11174\n",
      "в т.ч. offline: 9224\n",
      "Медианная сумма займа: 8000\n",
      "в т.ч. online: 8000\n",
      "в т.ч. offline: 6000\n",
      "Cредний (первоначальный) срок займа: 23\n",
      "в т.ч. online: 23\n",
      "в т.ч. offline: 23\n",
      "Конверсия в выдачу (шт.): 71.79%\n",
      "в т.ч. online: 67.28%\n",
      "в т.ч. offline: 82.91%\n",
      "Выход на просрочку (шт.): 7.67% (непоказательно)\n"
     ]
    }
   ],
   "source": [
    "print('Повторные заемщики в апреле:')\n",
    "\n",
    "print('Кол-во займов: {} ({:.2f}%)'.format(len(povtor_apr_all.Dog),\n",
    "                len(povtor_apr_all.Dog) * 100 / (len(perv_apr_all.Dog) + len(povtor_apr_all.Dog))))\n",
    "print('в т.ч. online: {} ({:.2f}%)'\\\n",
    "                .format(len(povtor_apr_on.Dog), len(povtor_apr_on.Dog) * 100 / (len(povtor_apr_all.Dog))))\n",
    "print('в т.ч. offline: {} ({:.2f}%)'\\\n",
    "                .format(len(povtor_apr_off.Dog), len(povtor_apr_off.Dog) * 100 / (len(povtor_apr_all.Dog))))\n",
    "\n",
    "print('Cредняя сумма займа: {:.0f}'.format(np.mean(povtor_apr_all.Sum)))\n",
    "print('в т.ч. online: {:.0f}'.format(np.mean(povtor_apr_on.Sum)))\n",
    "print('в т.ч. offline: {:.0f}'.format(np.mean(povtor_apr_off.Sum)))\n",
    "\n",
    "print('Медианная сумма займа: {:.0f}'.format(np.median(povtor_apr_all.Sum)))\n",
    "print('в т.ч. online: {:.0f}'.format(np.median(povtor_apr_on.Sum)))\n",
    "print('в т.ч. offline: {:.0f}'.format(np.median(povtor_apr_off.Sum)))\n",
    "\n",
    "print('Cредний (первоначальный) срок займа: {:.0f}'.format(np.mean(povtor_apr_all.Duration)))\n",
    "print('в т.ч. online: {:.0f}'.format(np.mean(povtor_apr_on.Duration)))\n",
    "print('в т.ч. offline: {:.0f}'.format(np.mean(povtor_apr_off.Duration)))\n",
    "\n",
    "print('Конверсия в выдачу (шт.): {:.2f}%'.format(len(povtor_apr_all.Dog) *\\\n",
    "                                                100 / len(zvk_mar_apr.Dog[(zvk_mar_apr.Month == 'April')\\\n",
    "                                                & (zvk_mar_apr.NumOfLoansBefore != 0)])))\n",
    "print('в т.ч. online: {:.2f}%'.format(len(povtor_apr_on.Dog) *\\\n",
    "                                                100 / len(zvk_mar_apr.Dog[(zvk_mar_apr.Month == 'April')\\\n",
    "                                                & (zvk_mar_apr.NumOfLoansBefore != 0)\\\n",
    "                                                & (zvk_mar_apr.ON == True)])))\n",
    "print('в т.ч. offline: {:.2f}%'.format(len(povtor_apr_off.Dog) *\\\n",
    "                                                100 / len(zvk_mar_apr.Dog[(zvk_mar_apr.Month == 'April')\\\n",
    "                                                & (zvk_mar_apr.NumOfLoansBefore != 0)\\\n",
    "                                                & (zvk_mar_apr.ON == False)])))\n",
    "\n",
    "print('Выход на просрочку (шт.): {:.2f}% (непоказательно)'.format(len(povtor_apr_all_deb.Dog) *\\\n",
    "                                                100 / len(merged_mar_apr.Dog[(merged_mar_apr.Month == 'April')\\\n",
    "                                                & (merged_mar_apr.NumOfLoansBefore != 0)])))"
   ]
  },
  {
   "cell_type": "code",
   "execution_count": null,
   "metadata": {},
   "outputs": [],
   "source": []
  }
 ],
 "metadata": {
  "kernelspec": {
   "display_name": "Python 3",
   "language": "python",
   "name": "python3"
  },
  "language_info": {
   "codemirror_mode": {
    "name": "ipython",
    "version": 3
   },
   "file_extension": ".py",
   "mimetype": "text/x-python",
   "name": "python",
   "nbconvert_exporter": "python",
   "pygments_lexer": "ipython3",
   "version": "3.7.3"
  }
 },
 "nbformat": 4,
 "nbformat_minor": 2
}
